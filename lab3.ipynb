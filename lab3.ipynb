{
 "cells": [
  {
   "cell_type": "markdown",
   "metadata": {},
   "source": [
    "# Лабораторная работа №3\n",
    "## Тема: Метод проекции градиента"
   ]
  },
  {
   "cell_type": "markdown",
   "metadata": {},
   "source": [
    "https://books.google.com.ua/books?id=LLYTCwAAQBAJ&pg=PA699&lpg=PA699&dq=%D0%BF%D1%80%D0%BE%D0%B5%D0%BA%D1%86%D0%B8%D1%8F+%D0%BD%D0%B0+%D1%88%D0%B0%D1%80+%D0%BE%D0%BF%D1%82%D0%B8%D0%BC%D0%B8%D0%B7%D0%B0%D1%86%D0%B8%D1%8F&source=bl&ots=kQxuPkUyWM&sig=ACfU3U2vyEOn3_eeh3FRLAfa6AAkA_e_-A&hl=ru&sa=X&ved=2ahUKEwiI74zKqa7hAhWRposKHdToBRoQ6AEwCXoECAYQAQ#v=onepage&q=%D0%BF%D1%80%D0%BE%D0%B5%D0%BA%D1%86%D0%B8%D1%8F%20%D0%BD%D0%B0%20%D1%88%D0%B0%D1%80%20%D0%BE%D0%BF%D1%82%D0%B8%D0%BC%D0%B8%D0%B7%D0%B0%D1%86%D0%B8%D1%8F&f=false"
   ]
  },
  {
   "cell_type": "code",
   "execution_count": 1,
   "metadata": {},
   "outputs": [],
   "source": [
    "import sympy as sp\n",
    "x, y, z, h = sp.symbols('x y z h')"
   ]
  },
  {
   "cell_type": "code",
   "execution_count": 2,
   "metadata": {},
   "outputs": [],
   "source": [
    "sp.init_printing()"
   ]
  },
  {
   "cell_type": "code",
   "execution_count": 3,
   "metadata": {},
   "outputs": [],
   "source": [
    "from copy import copy\n",
    "import numpy as np\n",
    "import pandas as pd\n",
    "import matplotlib.pyplot as plt\n",
    "from matplotlib import cm\n",
    "from mpl_toolkits.mplot3d import Axes3D\n",
    "from pprint import pprint"
   ]
  },
  {
   "cell_type": "code",
   "execution_count": 4,
   "metadata": {},
   "outputs": [],
   "source": [
    "%matplotlib inline\n",
    "plt.rcParams[\"figure.figsize\"] = (15, 10)"
   ]
  },
  {
   "cell_type": "markdown",
   "metadata": {},
   "source": [
    "#### Целевая функция\n",
    "$3x+y+2z \\rightarrow min$ "
   ]
  },
  {
   "cell_type": "code",
   "execution_count": 5,
   "metadata": {},
   "outputs": [],
   "source": [
    "def f(x):\n",
    "    y = 3*x[0] + x[1] + 2*x[2]\n",
    "    return y"
   ]
  },
  {
   "cell_type": "markdown",
   "metadata": {},
   "source": [
    "#### Условия\n",
    "$2x^2+y^2+3z^2\\le1$"
   ]
  },
  {
   "cell_type": "code",
   "execution_count": 6,
   "metadata": {},
   "outputs": [],
   "source": [
    "ball_coefs = np.array([2, 1, 3])\n",
    "ball_center = np.array([0, 0, 0])\n",
    "ball_radius = 1"
   ]
  },
  {
   "cell_type": "markdown",
   "metadata": {},
   "source": [
    "#### Производные функции"
   ]
  },
  {
   "cell_type": "code",
   "execution_count": 7,
   "metadata": {},
   "outputs": [],
   "source": [
    "def df(x, h_step=0.01):\n",
    "    h_matr = h_step * np.eye(x.shape[0])\n",
    "    y = np.array([(f(x+h) - f(x-h))/(2*h_step) for h in h_matr])\n",
    "    return y"
   ]
  },
  {
   "cell_type": "code",
   "execution_count": 8,
   "metadata": {},
   "outputs": [],
   "source": [
    "def d2f(x, h_step=0.01):\n",
    "    h_matr = h_step * np.eye(x.shape[0])\n",
    "    y = np.array([(df(x+h) - df(x-h))/(2*h_step) for h in h_matr])\n",
    "    return y"
   ]
  },
  {
   "cell_type": "markdown",
   "metadata": {},
   "source": [
    "#### Функция и ее производные "
   ]
  },
  {
   "cell_type": "code",
   "execution_count": 9,
   "metadata": {},
   "outputs": [
    {
     "data": {
      "image/png": "[encoded data removed]",
      "text/latex": [
       "$$3 x + y + 2 z$$"
      ],
      "text/plain": [
       "3⋅x + y + 2⋅z"
      ]
     },
     "execution_count": 9,
     "metadata": {},
     "output_type": "execute_result"
    }
   ],
   "source": [
    "a = f(np.array([x, y, z]))\n",
    "a"
   ]
  },
  {
   "cell_type": "code",
   "execution_count": 10,
   "metadata": {},
   "outputs": [
    {
     "data": {
      "text/latex": [
       "$$\\left[\\begin{matrix}3.0\\\\1.0\\\\2.0\\end{matrix}\\right]$$"
      ],
      "text/plain": [
       "⎡3.0⎤\n",
       "⎢   ⎥\n",
       "⎢1.0⎥\n",
       "⎢   ⎥\n",
       "⎣2.0⎦"
      ]
     },
     "execution_count": 10,
     "metadata": {},
     "output_type": "execute_result"
    }
   ],
   "source": [
    "b = df(np.array([x, y, z]), h_step=h)\n",
    "sp.Matrix([sp.simplify(item) for item in b])"
   ]
  },
  {
   "cell_type": "code",
   "execution_count": 11,
   "metadata": {},
   "outputs": [
    {
     "data": {
      "text/latex": [
       "$$\\left[\\begin{matrix}0 & 0 & 0\\\\0 & 0 & 0\\\\0 & 0 & 0\\end{matrix}\\right]$$"
      ],
      "text/plain": [
       "⎡0  0  0⎤\n",
       "⎢       ⎥\n",
       "⎢0  0  0⎥\n",
       "⎢       ⎥\n",
       "⎣0  0  0⎦"
      ]
     },
     "execution_count": 11,
     "metadata": {},
     "output_type": "execute_result"
    }
   ],
   "source": [
    "c = d2f(np.array([x, y, z]), h_step=h)\n",
    "sp.Matrix([[sp.simplify(item) for item in row]for row in c])"
   ]
  },
  {
   "cell_type": "markdown",
   "metadata": {},
   "source": [
    "#### Метод проекции"
   ]
  },
  {
   "cell_type": "code",
   "execution_count": 12,
   "metadata": {},
   "outputs": [],
   "source": [
    "def ball_proj(x, c, r):\n",
    "    if np.linalg.norm(x - c) > r:\n",
    "        proj_x = c + (x - c)/np.linalg.norm(x - c)*r\n",
    "    else:\n",
    "        proj_x = x\n",
    "    return proj_x"
   ]
  },
  {
   "cell_type": "markdown",
   "metadata": {},
   "source": [
    "#### Градиентный спуск с постоянным шагом"
   ]
  },
  {
   "cell_type": "code",
   "execution_count": 13,
   "metadata": {},
   "outputs": [],
   "source": [
    "def run_const(start_data, error=1e-6):\n",
    "    x_arr = copy(start_data)\n",
    "    alpha = 1\n",
    "    count = 0\n",
    "    while True:\n",
    "        x = x_arr[-1]\n",
    "        h = df(x)\n",
    "        x_next = x - alpha * h\n",
    "        x_prep = np.sqrt(ball_coefs) * x_next\n",
    "        x_proj = ball_proj(x_prep, ball_center, ball_radius)\n",
    "        x_arr.append(x_proj)\n",
    "        if np.linalg.norm(x_proj - x) < error:\n",
    "            break\n",
    "        count += 1\n",
    "        if count == 10**5:\n",
    "            break\n",
    "    return x_arr"
   ]
  },
  {
   "cell_type": "code",
   "execution_count": 14,
   "metadata": {},
   "outputs": [],
   "source": [
    "size = 10\n",
    "start = [2*size*(np.random.random(3) - 0.5)]\n",
    "e = 1e-6"
   ]
  },
  {
   "cell_type": "code",
   "execution_count": 15,
   "metadata": {},
   "outputs": [],
   "source": [
    "first = run_const(start, e)"
   ]
  },
  {
   "cell_type": "code",
   "execution_count": 16,
   "metadata": {},
   "outputs": [
    {
     "name": "stdout",
     "output_type": "stream",
     "text": [
      "[array([-6.79814096,  4.9970572 , -6.40425442]),\n",
      " array([-0.67623412,  0.19506474, -0.71039226]),\n",
      " array([-0.73734391, -0.11415972, -0.66580141]),\n",
      " array([-0.74378632, -0.15678972, -0.64976834]),\n",
      " array([-0.74552976, -0.1628896 , -0.64626028]),\n",
      " array([-0.74599138, -0.16377366, -0.64550372]),\n",
      " array([-0.7461058, -0.1639031, -0.6453386]),\n",
      " array([-0.74613306, -0.16392231, -0.6453022 ]),\n",
      " array([-0.74613941, -0.16392522, -0.64529412]),\n",
      " array([-0.74614087, -0.16392567, -0.64529231]),\n",
      " array([-0.74614121, -0.16392575, -0.64529191])]\n"
     ]
    }
   ],
   "source": [
    "pprint(first)"
   ]
  },
  {
   "cell_type": "markdown",
   "metadata": {},
   "source": [
    "#### Быстрейший спуск"
   ]
  },
  {
   "cell_type": "code",
   "execution_count": 17,
   "metadata": {},
   "outputs": [],
   "source": [
    "def run_fastest(start_data, error=1e-6):\n",
    "    x_arr = copy(start_data)\n",
    "    alpha = 1\n",
    "    count = 0\n",
    "    while True:\n",
    "        x = x_arr[-1]\n",
    "        h = df(x)\n",
    "        A = d2f(x)\n",
    "        alpha = (h @ h)/(A @ h @ h)\n",
    "        x_next = x - alpha * h\n",
    "        x_prep = np.sqrt(ball_coefs) * x_next\n",
    "        x_proj = ball_proj(x_prep, ball_center, ball_radius)\n",
    "        x_arr.append(x_proj)\n",
    "        if np.linalg.norm(x_proj - x) < error:\n",
    "            break\n",
    "        count += 1\n",
    "        if count == 10**5:\n",
    "            break\n",
    "    return x_arr"
   ]
  },
  {
   "cell_type": "code",
   "execution_count": 18,
   "metadata": {},
   "outputs": [],
   "source": [
    "# second = run_fastest(start, e)  # Нулевая матрица вторых производных"
   ]
  },
  {
   "cell_type": "code",
   "execution_count": 19,
   "metadata": {},
   "outputs": [],
   "source": [
    "# pprint(second)"
   ]
  },
  {
   "cell_type": "markdown",
   "metadata": {},
   "source": [
    "#### Градиентный спуск с дроблением шага"
   ]
  },
  {
   "cell_type": "code",
   "execution_count": 20,
   "metadata": {},
   "outputs": [],
   "source": [
    "def run_shredded(start_data, error=1e-6):\n",
    "    x_arr = copy(start_data)\n",
    "    coef = 0.5\n",
    "    alpha= 1\n",
    "    count = 0\n",
    "    while True:\n",
    "        x = x_arr[-1]\n",
    "        h = df(x)\n",
    "        while f(x - alpha*h) >= f(x):\n",
    "            alpha = coef * alpha\n",
    "        x_next = x - alpha * h\n",
    "        x_prep = np.sqrt(ball_coefs) * x_next\n",
    "        x_proj = ball_proj(x_prep, ball_center, ball_radius)\n",
    "        x_arr.append(x_proj)\n",
    "        if np.linalg.norm(x_proj - x) < error:\n",
    "            break\n",
    "        count += 1\n",
    "        if count == 10**5:\n",
    "            break\n",
    "    return x_arr"
   ]
  },
  {
   "cell_type": "code",
   "execution_count": 21,
   "metadata": {},
   "outputs": [],
   "source": [
    "third = run_shredded(start, e)"
   ]
  },
  {
   "cell_type": "code",
   "execution_count": 22,
   "metadata": {},
   "outputs": [
    {
     "name": "stdout",
     "output_type": "stream",
     "text": [
      "[array([-6.79814096,  4.9970572 , -6.40425442]),\n",
      " array([-0.67623412,  0.19506474, -0.71039226]),\n",
      " array([-0.73734391, -0.11415972, -0.66580141]),\n",
      " array([-0.74378632, -0.15678972, -0.64976834]),\n",
      " array([-0.74552976, -0.1628896 , -0.64626028]),\n",
      " array([-0.74599138, -0.16377366, -0.64550372]),\n",
      " array([-0.7461058, -0.1639031, -0.6453386]),\n",
      " array([-0.74613306, -0.16392231, -0.6453022 ]),\n",
      " array([-0.74613941, -0.16392522, -0.64529412]),\n",
      " array([-0.74614087, -0.16392567, -0.64529231]),\n",
      " array([-0.74614121, -0.16392575, -0.64529191])]\n"
     ]
    }
   ],
   "source": [
    "pprint(third)"
   ]
  },
  {
   "cell_type": "code",
   "execution_count": null,
   "metadata": {},
   "outputs": [],
   "source": []
  }
 ],
 "metadata": {
  "kernelspec": {
   "display_name": "Python 3",
   "language": "python",
   "name": "python3"
  },
  "language_info": {
   "codemirror_mode": {
    "name": "ipython",
    "version": 3
   },
   "file_extension": ".py",
   "mimetype": "text/x-python",
   "name": "python",
   "nbconvert_exporter": "python",
   "pygments_lexer": "ipython3",
   "version": "3.7.2"
  }
 },
 "nbformat": 4,
 "nbformat_minor": 2
}
