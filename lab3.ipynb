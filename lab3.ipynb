{
 "cells": [
  {
   "cell_type": "markdown",
   "metadata": {},
   "source": [
    "# Лабораторная работа №3\n",
    "## Тема: Метод проекции градиента"
   ]
  },
  {
   "cell_type": "code",
   "execution_count": 1,
   "metadata": {},
   "outputs": [],
   "source": [
    "from copy import copy\n",
    "import numpy as np\n",
    "import pandas as pd\n",
    "import matplotlib.pyplot as plt\n",
    "from matplotlib import cm\n",
    "from mpl_toolkits.mplot3d import Axes3D"
   ]
  },
  {
   "cell_type": "code",
   "execution_count": 2,
   "metadata": {},
   "outputs": [],
   "source": [
    "%matplotlib inline\n",
    "plt.rcParams[\"figure.figsize\"] = (15, 10)"
   ]
  },
  {
   "cell_type": "markdown",
   "metadata": {},
   "source": [
    "#### Целевая функция\n",
    "$3x+y+2z \\rightarrow min$ "
   ]
  },
  {
   "cell_type": "code",
   "execution_count": 3,
   "metadata": {},
   "outputs": [],
   "source": [
    "def f(x):\n",
    "    y = 3*x[0] + x[1] + 2*x[2]\n",
    "    return y"
   ]
  },
  {
   "cell_type": "markdown",
   "metadata": {},
   "source": [
    "#### Условия\n",
    "$2x^2+y^2+3z^2\\le1$"
   ]
  },
  {
   "cell_type": "code",
   "execution_count": 4,
   "metadata": {},
   "outputs": [],
   "source": [
    "ball_coefs = np.array([2, 1, 3])\n",
    "ball_center = np.array([0, 0, 0])\n",
    "ball_radius = 1"
   ]
  },
  {
   "cell_type": "markdown",
   "metadata": {},
   "source": [
    "#### Производные функции"
   ]
  },
  {
   "cell_type": "code",
   "execution_count": 5,
   "metadata": {},
   "outputs": [],
   "source": [
    "def df(x, h_step=0.01):\n",
    "    h_matr = h_step * np.eye(x.shape[0])\n",
    "    y = np.array([(f(x+h) - f(x-h))/(2*h_step) for h in h_matr])\n",
    "    return y"
   ]
  },
  {
   "cell_type": "code",
   "execution_count": 6,
   "metadata": {},
   "outputs": [],
   "source": [
    "def d2f(x, h_step=0.01):\n",
    "    h_matr = h_step * np.eye(x.shape[0])\n",
    "    y = np.array([(df(x+h) - df(x-h))/(2*h_step) for h in h_matr])\n",
    "    return y"
   ]
  },
  {
   "cell_type": "markdown",
   "metadata": {},
   "source": [
    "#### Метод проекции"
   ]
  },
  {
   "cell_type": "code",
   "execution_count": 7,
   "metadata": {},
   "outputs": [],
   "source": [
    "def ball_proj(x, c, r):\n",
    "    if np.linalg.norm(x - c) > r:\n",
    "        proj_x = c + (x - c)/np.linalg.norm(x - c)*r\n",
    "    else:\n",
    "        proj_x = x\n",
    "    return proj_x"
   ]
  },
  {
   "cell_type": "markdown",
   "metadata": {},
   "source": [
    "#### Градиентный спуск с постоянным шагом"
   ]
  },
  {
   "cell_type": "code",
   "execution_count": 8,
   "metadata": {},
   "outputs": [],
   "source": [
    "def run_const(start_data, error=1e-6):\n",
    "    x_arr = copy(start_data)\n",
    "    alpha = 1\n",
    "    count = 0\n",
    "    while True:\n",
    "        x = x_arr[-1]\n",
    "        h = df(x)\n",
    "        x_next = x - alpha * h\n",
    "        x_prep = np.sqrt(ball_coefs) * x_next\n",
    "        x_proj = ball_proj(x_prep, ball_center, ball_radius)\n",
    "        x_arr.append(x_proj)\n",
    "        if np.linalg.norm(x_proj - x) < error:\n",
    "            break\n",
    "        count += 1\n",
    "        if count == 10**5:\n",
    "            break\n",
    "    return x_arr"
   ]
  },
  {
   "cell_type": "code",
   "execution_count": 9,
   "metadata": {},
   "outputs": [],
   "source": [
    "size = 10\n",
    "start = [2*size*(np.random.random(3) - 0.5)]\n",
    "e = 1e-6"
   ]
  },
  {
   "cell_type": "code",
   "execution_count": 10,
   "metadata": {},
   "outputs": [],
   "source": [
    "first = run_const(start, e)"
   ]
  },
  {
   "cell_type": "code",
   "execution_count": 23,
   "metadata": {},
   "outputs": [
    {
     "data": {
      "text/plain": [
       "[array([3.7565602 , 8.8047653 , 7.47499854]),\n",
       " array([0.08678742, 0.63307931, 0.76920643]),\n",
       " array([-0.8853808 , -0.07885244, -0.45813004]),\n",
       " array([-0.78112112, -0.15336697, -0.60525066]),\n",
       " array([-0.75407064, -0.16264621, -0.63633614]),\n",
       " array([-0.74791304, -0.16378769, -0.64327263]),\n",
       " array([-0.74653715, -0.16391575, -0.64483635]),\n",
       " array([-0.74622991, -0.1639265 , -0.64518913]),\n",
       " array([-0.74616117, -0.16392635, -0.64526867]),\n",
       " array([-0.74614576, -0.16392596, -0.64528659]),\n",
       " array([-0.74614231, -0.16392581, -0.64529062]),\n",
       " array([-0.74614153, -0.16392577, -0.64529153]),\n",
       " array([-0.74614136, -0.16392576, -0.64529173])]"
      ]
     },
     "execution_count": 23,
     "metadata": {},
     "output_type": "execute_result"
    }
   ],
   "source": [
    "first"
   ]
  },
  {
   "cell_type": "markdown",
   "metadata": {},
   "source": [
    "#### Быстрейший спуск"
   ]
  },
  {
   "cell_type": "code",
   "execution_count": 12,
   "metadata": {},
   "outputs": [],
   "source": [
    "def run_fastest(start_data, error=1e-6):\n",
    "    x_arr = copy(start_data)\n",
    "    alpha = 1\n",
    "    count = 0\n",
    "    while True:\n",
    "        x = x_arr[-1]\n",
    "        h = df(x)\n",
    "        A = d2f(x)\n",
    "        alpha = (h @ h)/(A @ h @ h)\n",
    "        x_next = x - alpha * h\n",
    "        x_prep = np.sqrt(ball_coefs) * x_next\n",
    "        x_proj = ball_proj(x_prep, ball_center, ball_radius)\n",
    "        x_arr.append(x_proj)\n",
    "        if np.linalg.norm(x_proj - x) < error:\n",
    "            break\n",
    "        count += 1\n",
    "        if count == 10**5:\n",
    "            break\n",
    "    return x_arr"
   ]
  },
  {
   "cell_type": "code",
   "execution_count": 13,
   "metadata": {},
   "outputs": [],
   "source": [
    "# second = run_fastest(start, e)"
   ]
  },
  {
   "cell_type": "code",
   "execution_count": 24,
   "metadata": {},
   "outputs": [],
   "source": [
    "# second"
   ]
  },
  {
   "cell_type": "markdown",
   "metadata": {},
   "source": [
    "#### Градиентный спуск с дроблением шага"
   ]
  },
  {
   "cell_type": "code",
   "execution_count": 19,
   "metadata": {},
   "outputs": [],
   "source": [
    "def run_shredded(start_data, error=1e-6):\n",
    "    x_arr = copy(start_data)\n",
    "    coef = 0.5\n",
    "    alpha= 1\n",
    "    count = 0\n",
    "    while True:\n",
    "        x = x_arr[-1]\n",
    "        h = df(x)\n",
    "        while f(x - alpha*h) >= f(x):\n",
    "            alpha = coef * alpha\n",
    "        x_next = x - alpha * h\n",
    "        x_prep = np.sqrt(ball_coefs) * x_next\n",
    "        x_proj = ball_proj(x_prep, ball_center, ball_radius)\n",
    "        x_arr.append(x_proj)\n",
    "        if np.linalg.norm(x_proj - x) < error:\n",
    "            break\n",
    "        count += 1\n",
    "        if count == 10**5:\n",
    "            break\n",
    "    return x_arr"
   ]
  },
  {
   "cell_type": "code",
   "execution_count": 20,
   "metadata": {},
   "outputs": [],
   "source": [
    "third = run_shredded(start, e)"
   ]
  },
  {
   "cell_type": "code",
   "execution_count": 22,
   "metadata": {},
   "outputs": [
    {
     "data": {
      "text/plain": [
       "[array([3.7565602 , 8.8047653 , 7.47499854]),\n",
       " array([0.08678742, 0.63307931, 0.76920643]),\n",
       " array([-0.8853808 , -0.07885244, -0.45813004]),\n",
       " array([-0.78112112, -0.15336697, -0.60525066]),\n",
       " array([-0.75407064, -0.16264621, -0.63633614]),\n",
       " array([-0.74791304, -0.16378769, -0.64327263]),\n",
       " array([-0.74653715, -0.16391575, -0.64483635]),\n",
       " array([-0.74622991, -0.1639265 , -0.64518913]),\n",
       " array([-0.74616117, -0.16392635, -0.64526867]),\n",
       " array([-0.74614576, -0.16392596, -0.64528659]),\n",
       " array([-0.74614231, -0.16392581, -0.64529062]),\n",
       " array([-0.74614153, -0.16392577, -0.64529153]),\n",
       " array([-0.74614136, -0.16392576, -0.64529173])]"
      ]
     },
     "execution_count": 22,
     "metadata": {},
     "output_type": "execute_result"
    }
   ],
   "source": [
    "third"
   ]
  },
  {
   "cell_type": "code",
   "execution_count": null,
   "metadata": {},
   "outputs": [],
   "source": []
  }
 ],
 "metadata": {
  "kernelspec": {
   "display_name": "Python 3",
   "language": "python",
   "name": "python3"
  },
  "language_info": {
   "codemirror_mode": {
    "name": "ipython",
    "version": 3
   },
   "file_extension": ".py",
   "mimetype": "text/x-python",
   "name": "python",
   "nbconvert_exporter": "python",
   "pygments_lexer": "ipython3",
   "version": "3.7.2"
  }
 },
 "nbformat": 4,
 "nbformat_minor": 2
}
